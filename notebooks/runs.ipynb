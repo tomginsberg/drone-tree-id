{
 "cells": [
  {
   "cell_type": "markdown",
   "metadata": {},
   "source": [
    "# Run 1\n",
    "## 07.01.2020\n",
    "\n",
    "## Benchmark Depth Fusing\n",
    "\n",
    "### Data\n",
    "- Kelowna, CPT2a-n, CPT2b, SALCT1, AMECT9\n",
    "- Random seed: 24\n",
    "\n",
    "### Architecture\n",
    "- Mask RCNN FNB depth 50 backbone.\n",
    "- Fuse depth at res2, res3, res4, res5 stages.\n",
    "- Depth encoder weights initialized randomly, i.e. not loaded from weight state dict. Otherwise depth encoder and - - ResNet in backbone have identical architecture.\n",
    "\n",
    "### Notes\n",
    "- Perhaps the symmetry is a bit overkill, could reduce the number of resnet blocks in each stage of the encoder.\n",
    "- Base learning rate set to 0.001 due to exploding/vanishing gradients initially.\n",
    "\n",
    "### Results\n",
    "\n",
    "### Conclusions\n",
    "\n"
   ]
  },
  {
   "cell_type": "code",
   "execution_count": null,
   "metadata": {},
   "outputs": [],
   "source": []
  }
 ],
 "metadata": {
  "kernelspec": {
   "display_name": "Environment (conda_pytorch_p36)",
   "language": "python",
   "name": "conda_pytorch_p36"
  },
  "language_info": {
   "codemirror_mode": {
    "name": "ipython",
    "version": 3
   },
   "file_extension": ".py",
   "mimetype": "text/x-python",
   "name": "python",
   "nbconvert_exporter": "python",
   "pygments_lexer": "ipython3",
   "version": "3.6.5"
  }
 },
 "nbformat": 4,
 "nbformat_minor": 2
}
